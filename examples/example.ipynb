{
 "cells": [
  {
   "cell_type": "markdown",
   "source": [
    "## Assumption\n",
    "\n",
    "- Your data files have not been modified where extra rows or columns were added\n",
    "- No column names were changed\n",
    "- All original DIANN output are in the same folder including the log file"
   ],
   "metadata": {
    "collapsed": false,
    "pycharm": {
     "name": "#%% md\n"
    }
   }
  },
  {
   "cell_type": "code",
   "execution_count": null,
   "outputs": [],
   "source": [
    "#pip install dQ\n",
    "\n",
    "from diannpy.operation import Diann"
   ],
   "metadata": {
    "collapsed": false,
    "pycharm": {
     "name": "#%%\n"
    }
   }
  },
  {
   "cell_type": "markdown",
   "source": [
    "## Diann object\n",
    "\n",
    "`Diann` object carry the main interface for user interaction.\n",
    "- `folder_path`: folder path containing DIANN's output (required)\n",
    "- `temp_folder_path`: default to be current location for storing files generated during the process\n",
    "- `fasta_lib_path`: location of fasta library file\n",
    "- `goa_file`: location of goa file\n",
    "- `go_obo`: location of obo file"
   ],
   "metadata": {
    "collapsed": false,
    "pycharm": {
     "name": "#%% md\n"
    }
   }
  },
  {
   "cell_type": "code",
   "execution_count": null,
   "outputs": [],
   "source": [
    "# example with specified temporary location\n",
    "d = Diann(r\"C:\\data\", r\"C:\\tempdata\")"
   ],
   "metadata": {
    "collapsed": false,
    "pycharm": {
     "name": "#%%\n"
    }
   }
  },
  {
   "cell_type": "code",
   "execution_count": null,
   "outputs": [],
   "source": [
    "# example with specified fasta library location and specified temporary location\n",
    "d = Diann(r\"\\\\TestData\", r\"\\\\TestData\\temp\", r\"\\\\TestData\\Mouse_UniprotSP_Cano+Iso_052021.fasta\")"
   ],
   "metadata": {
    "collapsed": false,
    "pycharm": {
     "name": "#%%\n"
    }
   }
  }
 ],
 "metadata": {
  "kernelspec": {
   "display_name": "Python 3",
   "language": "python",
   "name": "python3"
  },
  "language_info": {
   "codemirror_mode": {
    "name": "ipython",
    "version": 2
   },
   "file_extension": ".py",
   "mimetype": "text/x-python",
   "name": "python",
   "nbconvert_exporter": "python",
   "pygments_lexer": "ipython2",
   "version": "2.7.6"
  }
 },
 "nbformat": 4,
 "nbformat_minor": 0
}